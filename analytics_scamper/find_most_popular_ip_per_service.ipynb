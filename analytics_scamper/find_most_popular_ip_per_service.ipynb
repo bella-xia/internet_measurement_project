{
 "cells": [
  {
   "cell_type": "code",
   "execution_count": 2,
   "id": "990dd184",
   "metadata": {},
   "outputs": [],
   "source": [
    "import numpy as np\n",
    "import pandas as pd\n",
    "import os\n"
   ]
  },
  {
   "cell_type": "code",
   "execution_count": 3,
   "id": "25b111a1",
   "metadata": {},
   "outputs": [
    {
     "data": {
      "text/plain": [
       "True"
      ]
     },
     "execution_count": 3,
     "metadata": {},
     "output_type": "execute_result"
    }
   ],
   "source": [
    "INPUT_DIR = \"../analytics_dframe/data/ip_geoloc_domain_mapping.csv\"\n",
    "os.path.exists(INPUT_DIR)"
   ]
  },
  {
   "cell_type": "code",
   "execution_count": 4,
   "id": "e6548182",
   "metadata": {},
   "outputs": [
    {
     "data": {
      "text/html": [
       "<div>\n",
       "<style scoped>\n",
       "    .dataframe tbody tr th:only-of-type {\n",
       "        vertical-align: middle;\n",
       "    }\n",
       "\n",
       "    .dataframe tbody tr th {\n",
       "        vertical-align: top;\n",
       "    }\n",
       "\n",
       "    .dataframe thead th {\n",
       "        text-align: right;\n",
       "    }\n",
       "</style>\n",
       "<table border=\"1\" class=\"dataframe\">\n",
       "  <thead>\n",
       "    <tr style=\"text-align: right;\">\n",
       "      <th></th>\n",
       "      <th>ip_addr</th>\n",
       "      <th>domain_name</th>\n",
       "      <th>top_level_domain</th>\n",
       "      <th>second_level_domain</th>\n",
       "      <th>city</th>\n",
       "      <th>country</th>\n",
       "      <th>asn_registry</th>\n",
       "      <th>asn</th>\n",
       "      <th>asn_description</th>\n",
       "      <th>asn_cidr</th>\n",
       "      <th>total_byte_transferred</th>\n",
       "      <th>total_packet_transferred</th>\n",
       "    </tr>\n",
       "  </thead>\n",
       "  <tbody>\n",
       "    <tr>\n",
       "      <th>0</th>\n",
       "      <td>45.57.62.182</td>\n",
       "      <td>ipv4-c238-was001-ix.1.oca.nflxvideo.net</td>\n",
       "      <td>net</td>\n",
       "      <td>nflxvideo</td>\n",
       "      <td>Washington</td>\n",
       "      <td>United States</td>\n",
       "      <td>arin</td>\n",
       "      <td>2906</td>\n",
       "      <td>AS-SSI, US</td>\n",
       "      <td>45.57.62.0/24</td>\n",
       "      <td>178639016</td>\n",
       "      <td>118270</td>\n",
       "    </tr>\n",
       "    <tr>\n",
       "      <th>1</th>\n",
       "      <td>45.57.62.223</td>\n",
       "      <td>ipv4-c176-was001-ix.1.oca.nflxvideo.net</td>\n",
       "      <td>net</td>\n",
       "      <td>nflxvideo</td>\n",
       "      <td>Washington</td>\n",
       "      <td>United States</td>\n",
       "      <td>arin</td>\n",
       "      <td>2906</td>\n",
       "      <td>AS-SSI, US</td>\n",
       "      <td>45.57.62.0/24</td>\n",
       "      <td>10303495</td>\n",
       "      <td>7001</td>\n",
       "    </tr>\n",
       "    <tr>\n",
       "      <th>2</th>\n",
       "      <td>3.129.173.176</td>\n",
       "      <td>ec2-3-129-173-176.us-east-2.compute.amazonaws.com</td>\n",
       "      <td>com</td>\n",
       "      <td>amazonaws</td>\n",
       "      <td>CoarseRecord</td>\n",
       "      <td>United States</td>\n",
       "      <td>arin</td>\n",
       "      <td>16509</td>\n",
       "      <td>AMAZON-02, US</td>\n",
       "      <td>3.128.0.0/15</td>\n",
       "      <td>60994</td>\n",
       "      <td>87</td>\n",
       "    </tr>\n",
       "    <tr>\n",
       "      <th>3</th>\n",
       "      <td>185.125.190.37</td>\n",
       "      <td>https-services.actiontoad.canonical.com</td>\n",
       "      <td>com</td>\n",
       "      <td>canonical</td>\n",
       "      <td>CoarseRecord</td>\n",
       "      <td>United Kingdom</td>\n",
       "      <td>ripencc</td>\n",
       "      <td>41231</td>\n",
       "      <td>CANONICAL-AS, GB</td>\n",
       "      <td>185.125.190.0/24</td>\n",
       "      <td>56166</td>\n",
       "      <td>131</td>\n",
       "    </tr>\n",
       "    <tr>\n",
       "      <th>4</th>\n",
       "      <td>142.251.163.95</td>\n",
       "      <td>wv-in-f95.1e100.net</td>\n",
       "      <td>net</td>\n",
       "      <td>1e100</td>\n",
       "      <td>CoarseRecord</td>\n",
       "      <td>United States</td>\n",
       "      <td>arin</td>\n",
       "      <td>15169</td>\n",
       "      <td>GOOGLE, US</td>\n",
       "      <td>142.251.163.0/24</td>\n",
       "      <td>29738</td>\n",
       "      <td>41</td>\n",
       "    </tr>\n",
       "  </tbody>\n",
       "</table>\n",
       "</div>"
      ],
      "text/plain": [
       "          ip_addr                                        domain_name  \\\n",
       "0    45.57.62.182            ipv4-c238-was001-ix.1.oca.nflxvideo.net   \n",
       "1    45.57.62.223            ipv4-c176-was001-ix.1.oca.nflxvideo.net   \n",
       "2   3.129.173.176  ec2-3-129-173-176.us-east-2.compute.amazonaws.com   \n",
       "3  185.125.190.37            https-services.actiontoad.canonical.com   \n",
       "4  142.251.163.95                                wv-in-f95.1e100.net   \n",
       "\n",
       "  top_level_domain second_level_domain          city         country  \\\n",
       "0              net           nflxvideo    Washington   United States   \n",
       "1              net           nflxvideo    Washington   United States   \n",
       "2              com           amazonaws  CoarseRecord   United States   \n",
       "3              com           canonical  CoarseRecord  United Kingdom   \n",
       "4              net               1e100  CoarseRecord   United States   \n",
       "\n",
       "  asn_registry    asn   asn_description          asn_cidr  \\\n",
       "0         arin   2906        AS-SSI, US     45.57.62.0/24   \n",
       "1         arin   2906        AS-SSI, US     45.57.62.0/24   \n",
       "2         arin  16509     AMAZON-02, US      3.128.0.0/15   \n",
       "3      ripencc  41231  CANONICAL-AS, GB  185.125.190.0/24   \n",
       "4         arin  15169        GOOGLE, US  142.251.163.0/24   \n",
       "\n",
       "   total_byte_transferred  total_packet_transferred  \n",
       "0               178639016                    118270  \n",
       "1                10303495                      7001  \n",
       "2                   60994                        87  \n",
       "3                   56166                       131  \n",
       "4                   29738                        41  "
      ]
     },
     "execution_count": 4,
     "metadata": {},
     "output_type": "execute_result"
    }
   ],
   "source": [
    "df = pd.read_csv(INPUT_DIR)\n",
    "df.head()"
   ]
  },
  {
   "cell_type": "code",
   "execution_count": 7,
   "id": "d750ab34",
   "metadata": {},
   "outputs": [],
   "source": [
    "all_asns = list(df['asn_description'].unique())\n",
    "target_as = [ 'AMAZON-02, US', 'AS-SSI, US', 'AKAMAI-ASN1, NL', 'GOOGLE-CLOUD-PLATFORM, US', 'CLOUDFLARENET, US', 'COMCAST-7922, US']"
   ]
  },
  {
   "cell_type": "code",
   "execution_count": 11,
   "id": "41a6fa3e",
   "metadata": {},
   "outputs": [],
   "source": [
    "all_queriable_ip = {}\n",
    "for as_ins in target_as:\n",
    "    filtered_df = df[df['asn_description'] == as_ins].sort_values(by=\"total_byte_transferred\", ascending=False)\n",
    "    ip_list = list(filtered_df['ip_addr'])\n",
    "    all_queriable_ip[as_ins] = ip_list if len(ip_list) < 10 else ip_list[:10]\n"
   ]
  },
  {
   "cell_type": "code",
   "execution_count": 12,
   "id": "0bb8bfc4",
   "metadata": {},
   "outputs": [
    {
     "data": {
      "text/plain": [
       "{'AMAZON-02, US': ['3.19.205.174',\n",
       "  '3.129.173.176',\n",
       "  '3.132.36.44',\n",
       "  '3.133.193.154',\n",
       "  '18.189.65.196',\n",
       "  '3.18.92.247',\n",
       "  '18.154.227.45',\n",
       "  '44.240.52.117',\n",
       "  '3.12.3.40',\n",
       "  '3.17.233.126'],\n",
       " 'AS-SSI, US': ['45.57.63.233',\n",
       "  '45.57.62.182',\n",
       "  '45.57.63.179',\n",
       "  '45.57.63.208',\n",
       "  '45.57.62.173',\n",
       "  '45.57.62.223',\n",
       "  '45.57.62.222',\n",
       "  '45.57.62.172',\n",
       "  '45.57.62.232',\n",
       "  '45.57.62.162'],\n",
       " 'AKAMAI-ASN1, NL': ['23.73.207.16',\n",
       "  '23.48.203.107',\n",
       "  '23.212.250.18',\n",
       "  '23.48.203.104',\n",
       "  '23.212.250.4',\n",
       "  '23.212.250.23',\n",
       "  '23.48.203.110',\n",
       "  '23.212.250.70',\n",
       "  '23.54.127.46',\n",
       "  '23.215.0.37'],\n",
       " 'GOOGLE-CLOUD-PLATFORM, US': ['34.102.208.192',\n",
       "  '34.144.254.29',\n",
       "  '34.117.223.223',\n",
       "  '34.120.32.134',\n",
       "  '34.160.176.28',\n",
       "  '34.120.52.64',\n",
       "  '34.131.78.121',\n",
       "  '35.227.225.220',\n",
       "  '34.129.38.245',\n",
       "  '34.160.134.72'],\n",
       " 'CLOUDFLARENET, US': ['1.1.1.1'],\n",
       " 'COMCAST-7922, US': ['75.75.75.75', '75.75.76.76']}"
      ]
     },
     "execution_count": 12,
     "metadata": {},
     "output_type": "execute_result"
    }
   ],
   "source": [
    "all_queriable_ip"
   ]
  },
  {
   "cell_type": "code",
   "execution_count": null,
   "id": "d2617869",
   "metadata": {},
   "outputs": [],
   "source": []
  }
 ],
 "metadata": {
  "kernelspec": {
   "display_name": "Python 3",
   "language": "python",
   "name": "python3"
  },
  "language_info": {
   "codemirror_mode": {
    "name": "ipython",
    "version": 3
   },
   "file_extension": ".py",
   "mimetype": "text/x-python",
   "name": "python",
   "nbconvert_exporter": "python",
   "pygments_lexer": "ipython3",
   "version": "3.10.12"
  }
 },
 "nbformat": 4,
 "nbformat_minor": 5
}
